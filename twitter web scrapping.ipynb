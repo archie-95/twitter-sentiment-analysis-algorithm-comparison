{
 "cells": [
  {
   "cell_type": "code",
   "execution_count": 2,
   "metadata": {},
   "outputs": [
    {
     "name": "stdout",
     "output_type": "stream",
     "text": [
      "Enter the serch word\n",
      "#blm\n",
      "   id                                              tweet\n",
      "0   0  Wow, this is quite the violent assault by SPD ...\n",
      "1   1  Ha ha! MAGAts want to boycott #Goodyear \\nMayb...\n",
      "2   2  Like you Monk, I know who I am and I know who ...\n",
      "3   3  Check out Trash Tuesday #BLM https://t.co/hqPu...\n",
      "4   4  https://t.co/O759WMPYA3 this is a video I made...\n"
     ]
    }
   ],
   "source": [
    "import numpy as np\n",
    "import pandas as pd\n",
    "import json\n",
    "import tweepy as tw\n",
    "\n",
    "CONSUMER_KEY=\"BaaG2XkkMvfiKKQLGsSoV7GPK\"\n",
    "CONSUMER_SECRET_KEY=\"AQcW2k3I5lInu9moqMtfJ8CASUaXrIBcMXCHlLsdZ2rwTEbeWi\"\n",
    "ACCESS_KEY=\"1152979320459030528-dLRnJNxRrs7yBR66wEIyDA96dUnkjE\"\n",
    "ACCESS_KEY_SECRET=\"BzlocNJgVKgkHsQOLbuuLZJI7IPPXm3RD4QOlmKSqw6y4\"\n",
    "\n",
    "auth=tw.OAuthHandler(CONSUMER_KEY,CONSUMER_SECRET_KEY)\n",
    "auth.set_access_token(ACCESS_KEY,ACCESS_KEY_SECRET)\n",
    "\n",
    "api=tw.API(auth)\n",
    "search_words=input(\"Enter the serch word\\n\")\n",
    "search_words=search_words+\" -filter:retweets\"\n",
    "date_since = \"2019-09-15\"\n",
    "tweets = tw.Cursor(api.search,q=search_words,lang=\"en\",since=date_since).items(100)\n",
    "users_locs=[]\n",
    "for i,tweet in enumerate(tweets):\n",
    "    users_locs.append([i,tweet.text])\n",
    "tweet_text = pd.DataFrame(data=users_locs,columns=['id','tweet'])\n",
    "#tweet_text.columns=['id','tweet']\n",
    "export_csv = tweet_text.to_csv (r'C:\\Users\\Catherine\\Desktop\\twitter sentiment analysis\\test_tweet.csv') \n",
    "print(tweet_text.head())"
   ]
  },
  {
   "cell_type": "code",
   "execution_count": null,
   "metadata": {},
   "outputs": [],
   "source": []
  },
  {
   "cell_type": "code",
   "execution_count": null,
   "metadata": {},
   "outputs": [],
   "source": []
  }
 ],
 "metadata": {
  "kernelspec": {
   "display_name": "Python 3",
   "language": "python",
   "name": "python3"
  },
  "language_info": {
   "codemirror_mode": {
    "name": "ipython",
    "version": 3
   },
   "file_extension": ".py",
   "mimetype": "text/x-python",
   "name": "python",
   "nbconvert_exporter": "python",
   "pygments_lexer": "ipython3",
   "version": "3.7.1"
  }
 },
 "nbformat": 4,
 "nbformat_minor": 2
}
